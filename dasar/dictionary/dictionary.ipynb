{
 "cells": [
  {
   "cell_type": "markdown",
   "metadata": {},
   "source": [
    "# [Dictionary](https://docs.python.org/3/library/stdtypes.html#dict) \n",
    "Collections of `key`-`value` pairs. "
   ]
  },
  {
   "cell_type": "code",
   "execution_count": null,
   "metadata": {},
   "outputs": [],
   "source": [
    "dictionary_kosong = {}  # alternative: dictionary_kosong = dict()\n",
    "print('dict: {}, type: {}'.format(dictionary_kosong, type(dictionary_kosong)))"
   ]
  },
  {
   "cell_type": "markdown",
   "metadata": {},
   "source": [
    "## Initialization"
   ]
  },
  {
   "cell_type": "code",
   "execution_count": null,
   "metadata": {},
   "outputs": [],
   "source": [
    "dictionary1 = {'value1': 1.6, 'value2': 10, 'name': 'John Doe'}\n",
    "dictionary2 = dict(value1=1.6, value2=10, name='John Doe')\n",
    "\n",
    "print(dictionary1)\n",
    "print(dictionary2)\n",
    "\n",
    "print('equal: {}'.format(dictionary1 == dictionary2))\n",
    "print('length: {}'.format(len(dictionary1)))"
   ]
  },
  {
   "cell_type": "markdown",
   "metadata": {},
   "source": [
    "## `dict.keys(), dict.values(), dict.items()`"
   ]
  },
  {
   "cell_type": "code",
   "execution_count": null,
   "metadata": {},
   "outputs": [],
   "source": [
    "print('keys: {}'.format(dictionary1.keys()))\n",
    "print('values: {}'.format(dictionary1.values()))\n",
    "print('items: {}'.format(dictionary1.items()))"
   ]
  },
  {
   "cell_type": "markdown",
   "metadata": {},
   "source": [
    "## Accessing and setting values"
   ]
  },
  {
   "cell_type": "code",
   "execution_count": null,
   "metadata": {},
   "outputs": [],
   "source": [
    "contoh_dictionary = {}\n",
    "contoh_dictionary['key1'] = 'value1'\n",
    "contoh_dictionary['key2'] = 99\n",
    "contoh_dictionary['key1'] = 'new value'  # overriding existing value\n",
    "print(contoh_dictionary)\n",
    "print('value of key1: {}'.format(contoh_dictionary['key1']))"
   ]
  },
  {
   "cell_type": "markdown",
   "metadata": {},
   "source": [
    "Mengakses `key` yg tidak ada menyebabkan error `KeyError` (see `dict.get()`):"
   ]
  },
  {
   "cell_type": "code",
   "execution_count": null,
   "metadata": {},
   "outputs": [],
   "source": [
    "# print(contoh_dictionary['nope'])"
   ]
  },
  {
   "cell_type": "markdown",
   "metadata": {},
   "source": [
    "**Solusi:**"
   ]
  },
  {
   "cell_type": "code",
   "execution_count": null,
   "metadata": {},
   "outputs": [],
   "source": [
    "print(contoh_dictionary.get('nope'))"
   ]
  },
  {
   "cell_type": "markdown",
   "metadata": {},
   "source": [
    "## Deleting"
   ]
  },
  {
   "cell_type": "code",
   "execution_count": null,
   "metadata": {},
   "outputs": [],
   "source": [
    "contoh_dictionary = {'key1': 'value1', 'key2': 99, 'keyX': 'valueX'}\n",
    "del contoh_dictionary['keyX']\n",
    "print(contoh_dictionary)\n",
    "\n",
    "key_to_delete = 'my_key'\n",
    "if key_to_delete in contoh_dictionary:\n",
    "    # Biasanya tidak perlu di delete, alternative pake (popitem())\n",
    "    del contoh_dictionary[key_to_delete]\n",
    "else:\n",
    "    print('{key} is not in {dictionary}'.format(key=key_to_delete, dictionary=contoh_dictionary))"
   ]
  },
  {
   "cell_type": "code",
   "execution_count": null,
   "metadata": {},
   "outputs": [],
   "source": [
    "contoh_dictionary.popitem()"
   ]
  },
  {
   "cell_type": "markdown",
   "metadata": {},
   "source": [
    "## Dictionaries bersifat `mutable` atau nilai itemnya bisa berubah"
   ]
  },
  {
   "cell_type": "code",
   "execution_count": null,
   "metadata": {},
   "outputs": [],
   "source": [
    "contoh_dictionary = {'pecel': 'good', 'rawon': 'very good'}\n",
    "dictionary_baru = contoh_dictionary\n",
    "dictionary_baru['rawon'] = 'super tasty'\n",
    "dictionary_baru['sosis'] = 'biasa aja'\n",
    "print('contoh_dictionary: {}\\nother: {}'.format(contoh_dictionary, dictionary_baru))\n",
    "print('equal: {}'.format(contoh_dictionary == dictionary_baru))"
   ]
  },
  {
   "cell_type": "markdown",
   "metadata": {},
   "source": [
    "Simpan `dict` kedalam variable baru jika tidak ingin merubah aslinya:"
   ]
  },
  {
   "cell_type": "code",
   "execution_count": null,
   "metadata": {},
   "outputs": [],
   "source": [
    "contoh_dictionary = {'pecel': 'good', 'rawon': 'very good'}\n",
    "dictionary_baru = dict(contoh_dictionary)\n",
    "dictionary_baru['kopi'] = 'decent'\n",
    "print('contoh_dictionary: {}\\nother: {}'.format(contoh_dictionary, dictionary_baru))\n",
    "print('equal: {}'.format(contoh_dictionary == dictionary_baru))"
   ]
  },
  {
   "cell_type": "markdown",
   "metadata": {},
   "source": [
    "<a id='dict_get'></a>\n",
    "## `dict.get()`\n",
    "Output `None` jika `key` tidak ada di dalam `dict`. Tapi, kita bisa definisikan `default` output jika `key` tidak ada di dalam `dict`. "
   ]
  },
  {
   "cell_type": "code",
   "execution_count": null,
   "metadata": {},
   "outputs": [],
   "source": [
    "contoh_dictionary = {'a': 1, 'b': 2, 'c': 3}\n",
    "d = contoh_dictionary.get('d')\n",
    "print('d: {}'.format(d))\n",
    "\n",
    "d = contoh_dictionary.get('d', 'default value')\n",
    "print('d: {}'.format(d))"
   ]
  },
  {
   "cell_type": "markdown",
   "metadata": {},
   "source": [
    "## `dict.pop()`"
   ]
  },
  {
   "cell_type": "code",
   "execution_count": null,
   "metadata": {},
   "outputs": [],
   "source": [
    "contoh_dictionary = dict(food='pecel', drink='kopi', sport='football')\n",
    "print('dict before pops: {}'.format(contoh_dictionary))\n",
    "\n",
    "food = contoh_dictionary.pop('food')\n",
    "print('food: {}'.format(food))\n",
    "print('dict after popping food: {}'.format(contoh_dictionary))\n",
    "\n",
    "food_again = contoh_dictionary.pop('food', 'default value for food')\n",
    "print('food again: {}'.format(food_again))\n",
    "print('dict after popping food again: {}'.format(contoh_dictionary))\n"
   ]
  },
  {
   "cell_type": "markdown",
   "metadata": {},
   "source": [
    "## `dict.setdefault()`\n",
    "Output `value` dari `key` yg didefinisikan sebagai parameter pertama. Jika `key` tidak ada, maka tambahkan `key` dengan nilay `default` pada parameter kedua."
   ]
  },
  {
   "cell_type": "code",
   "execution_count": null,
   "metadata": {},
   "outputs": [],
   "source": [
    "contoh_dictionary = {'a': 1, 'b': 2, 'c': 3}\n",
    "a = contoh_dictionary.setdefault('a', 'my default value')\n",
    "d = contoh_dictionary.setdefault('d', 'my default value')\n",
    "print('a: {}\\nd: {}\\ncontoh_dictionary: {}'.format(a, d, contoh_dictionary))"
   ]
  },
  {
   "cell_type": "markdown",
   "metadata": {},
   "source": [
    "## `dict.update()`\n",
    "Merge two `dict`s"
   ]
  },
  {
   "cell_type": "code",
   "execution_count": null,
   "metadata": {},
   "outputs": [],
   "source": [
    "dictionary1 = {'a': 1, 'b': 2}\n",
    "dictionary2 = {'c': 3}\n",
    "dictionary1.update(dictionary2)\n",
    "print(dictionary1)\n",
    "\n",
    "# If they have same keys:\n",
    "dictionary1.update({'c': 4})\n",
    "print(dictionary1)"
   ]
  }
 ],
 "metadata": {
  "kernelspec": {
   "display_name": "Python 3",
   "language": "python",
   "name": "python3"
  },
  "language_info": {
   "codemirror_mode": {
    "name": "ipython",
    "version": 3
   },
   "file_extension": ".py",
   "mimetype": "text/x-python",
   "name": "python",
   "nbconvert_exporter": "python",
   "pygments_lexer": "ipython3",
   "version": "3.7.6"
  }
 },
 "nbformat": 4,
 "nbformat_minor": 2
}