{
 "cells": [
  {
   "cell_type": "markdown",
   "metadata": {},
   "source": [
    "# Functions"
   ]
  },
  {
   "cell_type": "code",
   "execution_count": null,
   "metadata": {},
   "outputs": [],
   "source": [
    "def my_first_function():\n",
    "    print('Hello world!')\n",
    "\n",
    "print('type: {}'.format(my_first_function))\n",
    "\n",
    "my_first_function()  # Calling a function"
   ]
  },
  {
   "cell_type": "markdown",
   "metadata": {},
   "source": [
    "### Arguments"
   ]
  },
  {
   "cell_type": "code",
   "execution_count": null,
   "metadata": {},
   "outputs": [],
   "source": [
    "def greeting(arg1, arg2):\n",
    "    print('Hello {} and {}!'.format(arg1, arg2))\n",
    "\n",
    "greeting('Ragnar', 'Uhtred')"
   ]
  },
  {
   "cell_type": "code",
   "execution_count": null,
   "metadata": {},
   "outputs": [],
   "source": [
    "# Function with return value\n",
    "def strip_and_lowercase(original):\n",
    "    modified = original.strip().lower()\n",
    "    return modified\n",
    "\n",
    "uggly_string = '  MixED CaSe '\n",
    "pretty = strip_and_lowercase(uggly_string)\n",
    "print('pretty: {}'.format(pretty))"
   ]
  },
  {
   "cell_type": "markdown",
   "metadata": {},
   "source": [
    "### Keyword arguments"
   ]
  },
  {
   "cell_type": "code",
   "execution_count": null,
   "metadata": {},
   "outputs": [],
   "source": [
    "def calculator(first, second, third):\n",
    "    return first + second - third \n",
    "\n",
    "print(calculator(3, 2, 1))\n",
    "\n",
    "print(calculator(first=3, second=2, third=1))\n",
    "\n",
    "# With keyword arguments you can mix the order\n",
    "print(calculator(third=1, first=3, second=2))\n",
    "\n",
    "# You can mix arguments and keyword arguments but you have to start with arguments\n",
    "print(calculator(3, third=1, second=2))  "
   ]
  },
  {
   "cell_type": "markdown",
   "metadata": {},
   "source": [
    "### Default arguments"
   ]
  },
  {
   "cell_type": "code",
   "execution_count": null,
   "metadata": {
    "scrolled": true
   },
   "outputs": [],
   "source": [
    "def create_person_info(name, age, job=None, salary=300):\n",
    "    info = {'name': name, 'age': age, 'salary': salary}\n",
    "    \n",
    "    # Tambahkan 'job' jika job tidak ada dalam argument\n",
    "    if job:  \n",
    "        info.update(dict(job=job))\n",
    "        \n",
    "    return info\n",
    "\n",
    "person1 = create_person_info('Ragnar', 82) #salary nya?\n",
    "person2 = create_person_info('Uhtred', 22, 'warrior', 10000)\n",
    "print(person1)\n",
    "print(person2)"
   ]
  },
  {
   "cell_type": "markdown",
   "metadata": {},
   "source": [
    "**Don't use mutable objects as default arguments!**"
   ]
  },
  {
   "cell_type": "code",
   "execution_count": null,
   "metadata": {},
   "outputs": [],
   "source": [
    "def simpan_jika_kelipatan_lima(number, magical_list=[]):\n",
    "    if number % 5 == 0:\n",
    "        magical_list.append(number)\n",
    "    return magical_list\n",
    "\n",
    "print(simpan_jika_kelipatan_lima(100))\n",
    "print(simpan_jika_kelipatan_lima(105))\n",
    "print(simpan_jika_kelipatan_lima(123))\n",
    "print(simpan_jika_kelipatan_lima(123, []))\n",
    "print(simpan_jika_kelipatan_lima(123))"
   ]
  },
  {
   "cell_type": "markdown",
   "metadata": {},
   "source": [
    "Here's how you can achieve desired behavior:"
   ]
  },
  {
   "cell_type": "code",
   "execution_count": null,
   "metadata": {},
   "outputs": [],
   "source": [
    "def simpan_jika_kelipatan_lima(number, magical_list=None):\n",
    "    if not magical_list:\n",
    "        magical_list = []\n",
    "    if number % 5 == 0:\n",
    "        magical_list.append(number)\n",
    "    return magical_list\n",
    "\n",
    "print(simpan_jika_kelipatan_lima(100))\n",
    "print(simpan_jika_kelipatan_lima(105))\n",
    "print(simpan_jika_kelipatan_lima(123))\n",
    "print(simpan_jika_kelipatan_lima(123, []))\n",
    "print(simpan_jika_kelipatan_lima(123))"
   ]
  },
  {
   "cell_type": "markdown",
   "metadata": {},
   "source": [
    "### Docstrings\n",
    "Strings for documenting your functions, methods, modules and variables."
   ]
  },
  {
   "cell_type": "code",
   "execution_count": 33,
   "metadata": {},
   "outputs": [
    {
     "name": "stdout",
     "output_type": "stream",
     "text": [
      "Help on function fungsi_penjumlahan in module __main__:\n",
      "\n",
      "fungsi_penjumlahan(val1, val2)\n",
      "    Fungsi ini berguna untuk menjumlahkan angka yg kurang penting :)\n",
      "\n",
      "None\n"
     ]
    }
   ],
   "source": [
    "def fungsi_penjumlahan(val1, val2):\n",
    "    \"\"\"Fungsi ini berguna untuk menjumlahkan angka yg kurang penting :)\"\"\"\n",
    "    print('jumlah: {}'.format(val1 + val2))\n",
    "\n",
    "print(help(fungsi_penjumlahan))"
   ]
  },
  {
   "cell_type": "code",
   "execution_count": 34,
   "metadata": {},
   "outputs": [
    {
     "name": "stdout",
     "output_type": "stream",
     "text": [
      "Help on function penjumlahan in module __main__:\n",
      "\n",
      "penjumlahan(val1, val2)\n",
      "    Fungsi ini berguna untuk menjumlahkan angka yg kurang penting :) \n",
      "    \n",
      "    Args:\n",
      "        val1: Parameter atau angka pertama.\n",
      "        val2: Parameter atau angka kedua.\n",
      "    \n",
      "    Returns:\n",
      "        Total val1 + val2.\n",
      "\n",
      "None\n"
     ]
    }
   ],
   "source": [
    "def penjumlahan(val1, val2):\n",
    "    \"\"\"Fungsi ini berguna untuk menjumlahkan angka yg kurang penting :) \n",
    "\n",
    "    Args:\n",
    "        val1: Parameter atau angka pertama.\n",
    "        val2: Parameter atau angka kedua.\n",
    "\n",
    "    Returns:\n",
    "        Total val1 + val2.\n",
    "        \n",
    "    \"\"\"\n",
    "    return val1 + val2\n",
    "\n",
    "print(help(penjumlahan))"
   ]
  },
  {
   "cell_type": "markdown",
   "metadata": {},
   "source": [
    "### [`pass`](https://docs.python.org/3/reference/simple_stmts.html#the-pass-statement) statement\n",
    "`pass` adalah sebuah statemen yang tidak melakukan apa apa ketika dijalankan. "
   ]
  },
  {
   "cell_type": "code",
   "execution_count": 38,
   "metadata": {},
   "outputs": [],
   "source": [
    "def pass_function(some_argument):\n",
    "    pass\n",
    "\n",
    "def another_pass_function():\n",
    "    pass"
   ]
  }
 ],
 "metadata": {
  "kernelspec": {
   "display_name": "Python 3",
   "language": "python",
   "name": "python3"
  },
  "language_info": {
   "codemirror_mode": {
    "name": "ipython",
    "version": 3
   },
   "file_extension": ".py",
   "mimetype": "text/x-python",
   "name": "python",
   "nbconvert_exporter": "python",
   "pygments_lexer": "ipython3",
   "version": "3.7.6"
  }
 },
 "nbformat": 4,
 "nbformat_minor": 2
}
